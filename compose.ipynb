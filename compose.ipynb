{
 "nbformat": 4,
 "nbformat_minor": 2,
 "metadata": {
  "language_info": {
   "name": "python",
   "codemirror_mode": {
    "name": "ipython",
    "version": 3
   },
   "version": "3.6.3-final"
  },
  "orig_nbformat": 2,
  "file_extension": ".py",
  "mimetype": "text/x-python",
  "name": "python",
  "npconvert_exporter": "python",
  "pygments_lexer": "ipython3",
  "version": 3,
  "kernelspec": {
   "name": "python36364bit6ccd149adccd4086924c7bd9f9560c4b",
   "display_name": "Python 3.6.3 64-bit"
  }
 },
 "cells": [
  {
   "cell_type": "code",
   "execution_count": 3,
   "metadata": {},
   "outputs": [
    {
     "name": "stdout",
     "output_type": "stream",
     "text": "Build model...\n"
    }
   ],
   "source": [
    "from mido import MidiFile, MidiTrack, Message\n",
    "from keras.layers import LSTM, Dense, Activation, Dropout\n",
    "from keras.preprocessing import sequence\n",
    "from keras.models import Sequential\n",
    "from keras.optimizers import RMSprop\n",
    "from sklearn.preprocessing import MinMaxScaler\n",
    "import numpy as np\n",
    "import mido\n",
    "\n",
    "########### PROCESS MIDI FILE #############\n",
    "mid = MidiFile(\"allegroconspirito.mid\")  # a Mozart piece\n",
    "\n",
    "notes = []\n",
    "\n",
    "time = float(0)\n",
    "prev = float(0)\n",
    "\n",
    "for msg in mid:\n",
    "    ### this time is in seconds, not ticks\n",
    "    time += msg.time\n",
    "    if not msg.is_meta:\n",
    "        ### only interested in piano channel\n",
    "        if msg.channel == 0:\n",
    "            if msg.type == \"note_on\":\n",
    "                # note in vector form to train on\n",
    "                note = msg.bytes()\n",
    "                # only interested in the note and velocity. note message is in the form of [type, note, velocity]\n",
    "                note = note[1:3]\n",
    "                note.append(time - prev)\n",
    "                prev = time\n",
    "                notes.append(note)\n",
    "###########################################\n",
    "\n",
    "######## SCALE DATA TO BETWEEN 0, 1 #######\n",
    "t = []\n",
    "for note in notes:\n",
    "    note[0] = (note[0] - 24) / 88\n",
    "    note[1] = note[1] / 127\n",
    "    t.append(note[2])\n",
    "max_t = max(t)  # scale based on the biggest time of any note\n",
    "for note in notes:\n",
    "    note[2] = note[2] / max_t\n",
    "###########################################\n",
    "\n",
    "############ CREATE DATA, LABELS ##########\n",
    "X = []\n",
    "Y = []\n",
    "n_prev = 30\n",
    "# n_prev notes to predict the (n_prev+1)th note\n",
    "for i in range(len(notes) - n_prev):\n",
    "    x = notes[i : i + n_prev]\n",
    "    y = notes[i + n_prev]\n",
    "    X.append(x)\n",
    "    Y.append(y)\n",
    "# save a seed to do prediction later\n",
    "seed = notes[0:n_prev]\n",
    "###########################################\n",
    "\n",
    "############### BUILD MODEL ###############\n",
    "print(\"Build model...\")\n",
    "model = Sequential()\n",
    "model.add(LSTM(128, input_shape=(n_prev, 3), return_sequences=True))\n",
    "model.add(Dropout(0.2))\n",
    "model.add(LSTM(64, input_shape=(n_prev, 3), return_sequences=False))\n",
    "model.add(Dropout(0.2))\n",
    "model.add(Dense(3))\n",
    "model.add(Activation(\"linear\"))\n",
    "\n",
    "optimizer = RMSprop(lr=0.01)\n",
    "model.compile(loss=\"mse\", optimizer=\"rmsprop\")"
   ]
  },
  {
   "cell_type": "code",
   "execution_count": 4,
   "metadata": {},
   "outputs": [],
   "source": [
    "X = np.array(X)\n",
    "Y = np.array(Y)"
   ]
  },
  {
   "cell_type": "code",
   "execution_count": 5,
   "metadata": {},
   "outputs": [
    {
     "data": {
      "text/plain": "((5910, 30, 3), (5910, 3))"
     },
     "execution_count": 5,
     "metadata": {},
     "output_type": "execute_result"
    }
   ],
   "source": [
    "X.shape, Y.shape"
   ]
  },
  {
   "cell_type": "code",
   "execution_count": null,
   "metadata": {},
   "outputs": [],
   "source": []
  }
 ]
}